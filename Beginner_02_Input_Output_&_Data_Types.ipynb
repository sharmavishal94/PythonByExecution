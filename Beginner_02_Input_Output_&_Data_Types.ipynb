{
  "nbformat": 4,
  "nbformat_minor": 0,
  "metadata": {
    "colab": {
      "provenance": [],
      "authorship_tag": "ABX9TyNF2pqcp4SKXpGInBhcs7/o",
      "include_colab_link": true
    },
    "kernelspec": {
      "name": "python3",
      "display_name": "Python 3"
    },
    "language_info": {
      "name": "python"
    }
  },
  "cells": [
    {
      "cell_type": "markdown",
      "metadata": {
        "id": "view-in-github",
        "colab_type": "text"
      },
      "source": [
        "<a href=\"https://colab.research.google.com/github/sharmavishal94/PythonByExecution/blob/main/Beginner_02_Input_Output_%26_Data_Types.ipynb\" target=\"_parent\"><img src=\"https://colab.research.google.com/assets/colab-badge.svg\" alt=\"Open In Colab\"/></a>"
      ]
    },
    {
      "cell_type": "markdown",
      "source": [
        "Agenda\n",
        "\n",
        "1. Output and Output Formating\n",
        "2. Input.\n",
        "3. Input Casting\n",
        "4. Type Identifcation\n",
        "5. Data Types.\n",
        "6. Creating New Data with Data Types & Accessing that.\n"
      ],
      "metadata": {
        "id": "n7nYB5azqTsM"
      }
    },
    {
      "cell_type": "markdown",
      "source": [
        "# Output"
      ],
      "metadata": {
        "id": "5K2HbvHxrMc5"
      }
    },
    {
      "cell_type": "code",
      "source": [
        "print(\"Hello, World!\")"
      ],
      "metadata": {
        "colab": {
          "base_uri": "https://localhost:8080/"
        },
        "id": "mZywsEH7qcow",
        "outputId": "eaf0aaff-014c-4798-de96-02d409e3bb86"
      },
      "execution_count": null,
      "outputs": [
        {
          "output_type": "stream",
          "name": "stdout",
          "text": [
            "Hello, World!\n"
          ]
        }
      ]
    },
    {
      "cell_type": "code",
      "source": [
        "name = \"Alice\"\n",
        "age = 30\n",
        "print(\"Name:\", name, \"Age:\", age)"
      ],
      "metadata": {
        "colab": {
          "base_uri": "https://localhost:8080/"
        },
        "id": "wgxYAe6Rqv7G",
        "outputId": "d3c7989f-b089-48ac-8216-84646d973a1f"
      },
      "execution_count": null,
      "outputs": [
        {
          "output_type": "stream",
          "name": "stdout",
          "text": [
            "Name: Alice Age: 30\n"
          ]
        }
      ]
    },
    {
      "cell_type": "markdown",
      "source": [
        "## Output Formating\n",
        "\n",
        "These methods enable precise control over how data is displayed, enhancing the readability and effectiveness of your Python programs.\n",
        "\n",
        "Various techniques include\n",
        "1. Format() method\n",
        "2. Manipulation of the sep and end parameters\n",
        "3. f-strings, and\n",
        "4. the versatile % operator."
      ],
      "metadata": {
        "id": "YVZPc07nq3f6"
      }
    },
    {
      "cell_type": "markdown",
      "source": [
        "Example 1: Using Format()"
      ],
      "metadata": {
        "id": "n-ajmou2rXEh"
      }
    },
    {
      "cell_type": "code",
      "source": [
        "amount = 150.75\n",
        "print(\"Amount: ${:.2f}\".format(amount))"
      ],
      "metadata": {
        "colab": {
          "base_uri": "https://localhost:8080/"
        },
        "id": "7bXJGeqnrTwo",
        "outputId": "c88c921f-a3c2-4e7c-fa34-04c5cdccd74b"
      },
      "execution_count": null,
      "outputs": [
        {
          "output_type": "stream",
          "name": "stdout",
          "text": [
            "Amount: $150.75\n"
          ]
        }
      ]
    },
    {
      "cell_type": "markdown",
      "source": [
        "Example 2: Using sep and end parameter"
      ],
      "metadata": {
        "id": "l3BXNLJWrbJt"
      }
    },
    {
      "cell_type": "code",
      "source": [
        "# end Parameter with '@'\n",
        "print(\"Python\", end='@')\n",
        "print(\"GeeksforGeeks\")\n",
        "\n",
        "\n",
        "# Seprating with Comma\n",
        "print('G', 'F', 'G', sep='')\n",
        "\n",
        "# for formatting a date\n",
        "print('09', '12', '2016', sep='-')\n",
        "\n",
        "# another example\n",
        "print('pratik', 'geeksforgeeks', sep='@')"
      ],
      "metadata": {
        "colab": {
          "base_uri": "https://localhost:8080/"
        },
        "id": "m8u4WG7brb65",
        "outputId": "027cdc4c-bbd4-4fcd-ca5e-f2fabc770603"
      },
      "execution_count": null,
      "outputs": [
        {
          "output_type": "stream",
          "name": "stdout",
          "text": [
            "Python@GeeksforGeeks\n",
            "GFG\n",
            "09-12-2016\n",
            "pratik@geeksforgeeks\n"
          ]
        }
      ]
    },
    {
      "cell_type": "markdown",
      "source": [
        "Example 3: Using f-string"
      ],
      "metadata": {
        "id": "P8dw9FPsrfhW"
      }
    },
    {
      "cell_type": "code",
      "source": [
        "name = 'Vishal'\n",
        "age = 30\n",
        "print(f\"Hello, My name is {name} and I'm {age} years old.\")"
      ],
      "metadata": {
        "colab": {
          "base_uri": "https://localhost:8080/"
        },
        "id": "RqkIMPBarhyC",
        "outputId": "dda54ec2-bfa8-4457-a69b-f58a0399a26c"
      },
      "execution_count": null,
      "outputs": [
        {
          "output_type": "stream",
          "name": "stdout",
          "text": [
            "Hello, My name is Vishal and I'm 30 years old.\n"
          ]
        }
      ]
    },
    {
      "cell_type": "markdown",
      "source": [
        "Example 4: Using % Operator"
      ],
      "metadata": {
        "id": "fiSAp2JkrlCl"
      }
    },
    {
      "cell_type": "markdown",
      "source": [
        "We can use ‘%’ operator. % values are replaced with zero or more value of elements. The formatting using % is similar to that of ‘printf’ in the C programming language.\n",
        "\n",
        "%d –integer\n",
        "%f – float\n",
        "%s – string\n",
        "%x –hexadecimal\n",
        "%o – octal"
      ],
      "metadata": {
        "id": "ViSSc7iHrm5v"
      }
    },
    {
      "cell_type": "code",
      "source": [
        "# Taking input from the user\n",
        "num = int(input(\"Enter a value: \"))\n",
        "\n",
        "add = num + 5\n",
        "\n",
        "# Output\n",
        "print(\"The sum is %d\" %add)"
      ],
      "metadata": {
        "colab": {
          "base_uri": "https://localhost:8080/"
        },
        "id": "XfvvdS5mrkY-",
        "outputId": "edb08423-4e8b-4edb-cfec-75170a0a2ce9"
      },
      "execution_count": null,
      "outputs": [
        {
          "output_type": "stream",
          "name": "stdout",
          "text": [
            "Enter a value: 10\n",
            "The sum is 15\n"
          ]
        }
      ]
    },
    {
      "cell_type": "markdown",
      "source": [
        "# Input"
      ],
      "metadata": {
        "id": "QigHaL0Vrspn"
      }
    },
    {
      "cell_type": "markdown",
      "source": [
        "Using Input Function"
      ],
      "metadata": {
        "id": "MeV_gzTbbqXy"
      }
    },
    {
      "cell_type": "code",
      "source": [
        "# taking two inputs at a time\n",
        "x, y = input(\"Enter two values: \").split()\n",
        "print(\"Number of boys: \", x)\n",
        "print(\"Number of girls: \", y)\n",
        "\n",
        "# taking three inputs at a time\n",
        "x, y, z = input(\"Enter three values: \").split()\n",
        "print(\"Total number of students: \", x)\n",
        "print(\"Number of boys is : \", y)\n",
        "print(\"Number of girls is : \", z)"
      ],
      "metadata": {
        "colab": {
          "base_uri": "https://localhost:8080/"
        },
        "id": "QGiTxZXFFqNS",
        "outputId": "7af16dbf-24ac-44a9-f2a8-8dbcdbe05b08"
      },
      "execution_count": null,
      "outputs": [
        {
          "output_type": "stream",
          "name": "stdout",
          "text": [
            "Enter two values: 10 11\n",
            "Number of boys:  10\n",
            "Number of girls:  11\n",
            "Enter three values: 20 11 9\n",
            "Total number of students:  20\n",
            "Number of boys is :  11\n",
            "Number of girls is :  9\n"
          ]
        }
      ]
    },
    {
      "cell_type": "code",
      "source": [
        "# Prompting the user for input\n",
        "age_input = input(\"Enter your age: \")\n",
        "\n",
        "# Converting the input to an integer\n",
        "age = int(age_input)\n",
        "\n",
        "# Checking conditions based on user input\n",
        "if age < 0:\n",
        "    print(\"Please enter a valid age.\")\n",
        "elif age < 18:\n",
        "    print(\"You are a minor.\")\n",
        "elif age >= 18 and age < 65:\n",
        "    print(\"You are an adult.\")\n",
        "else:\n",
        "    print(\"You are a senior citizen.\")"
      ],
      "metadata": {
        "colab": {
          "base_uri": "https://localhost:8080/"
        },
        "id": "-g0N8xcNFtkd",
        "outputId": "ea173cab-010e-4bcf-8969-00b0d9e0784e"
      },
      "execution_count": null,
      "outputs": [
        {
          "output_type": "stream",
          "name": "stdout",
          "text": [
            "Enter your age: 30\n",
            "You are an adult.\n"
          ]
        }
      ]
    },
    {
      "cell_type": "code",
      "source": [
        "name = input(\"Enter your name: \")\n",
        "print(\"Hello,\", name, \"! Welcome!\")"
      ],
      "metadata": {
        "colab": {
          "base_uri": "https://localhost:8080/"
        },
        "id": "8hLmq_8hFy2q",
        "outputId": "d9c5c88e-9a61-4f60-8967-38d42721730b"
      },
      "execution_count": null,
      "outputs": [
        {
          "output_type": "stream",
          "name": "stdout",
          "text": [
            "Enter your name: Vishal\n",
            "Hello, Vishal ! Welcome!\n"
          ]
        }
      ]
    },
    {
      "cell_type": "markdown",
      "source": [
        "## Input Type"
      ],
      "metadata": {
        "id": "0SWs7DHTQhsO"
      }
    },
    {
      "cell_type": "code",
      "source": [
        "# Taking input as string\n",
        "color = input(\"What color is rose?: \")\n",
        "print(color)"
      ],
      "metadata": {
        "id": "u4gLQKBLQnyt"
      },
      "execution_count": null,
      "outputs": []
    },
    {
      "cell_type": "code",
      "source": [
        "# Taking input as int\n",
        "# Typecasting to int\n",
        "n = int(input(\"How many roses?: \"))\n",
        "print(n)"
      ],
      "metadata": {
        "id": "KZdl_G_KQpkl"
      },
      "execution_count": null,
      "outputs": []
    },
    {
      "cell_type": "code",
      "source": [
        "# Taking input as float\n",
        "# Typecasting to float\n",
        "price = float(input(\"Price of each rose?: \"))\n",
        "print(price)"
      ],
      "metadata": {
        "id": "7QrCZ3tEQrLx"
      },
      "execution_count": null,
      "outputs": []
    },
    {
      "cell_type": "code",
      "source": [
        "# Find the Data Type\n",
        "a = \"Hello World\"\n",
        "b = 10\n",
        "c = 11.22\n",
        "d = (\"Geeks\", \"for\", \"Geeks\")\n",
        "e = [\"Geeks\", \"for\", \"Geeks\"]\n",
        "f = {\"Geeks\": 1, \"for\":2, \"Geeks\":3}\n",
        "\n",
        "\n",
        "print(type(a))\n",
        "print(type(b))\n",
        "print(type(c))\n",
        "print(type(d))\n",
        "print(type(e))\n",
        "print(type(f))"
      ],
      "metadata": {
        "id": "qILVhNVPQuZz"
      },
      "execution_count": null,
      "outputs": []
    },
    {
      "cell_type": "markdown",
      "source": [
        "Assignment 1: Take two integers from user and adding them. Using Format function to Print the Output.\n"
      ],
      "metadata": {
        "id": "7dHIimARb02m"
      }
    },
    {
      "cell_type": "markdown",
      "source": [
        "# Data Types\n",
        "![image.png](data:image/png;base64,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)"
      ],
      "metadata": {
        "id": "bhL8_Okpc4Ph"
      }
    },
    {
      "cell_type": "markdown",
      "source": [
        "1. Classification or categorization of data items.\n",
        "2. It represents the kind of value that tells what operations can be performed on a particular data"
      ],
      "metadata": {
        "id": "VoV1v2GFdB28"
      }
    },
    {
      "cell_type": "markdown",
      "source": [
        "## Numeric Data Types\n",
        "1. Integers – This value is represented by int class. It contains positive or negative whole numbers (without fractions or decimals).\n",
        "In Python, there is no limit to how long an integer value can be.\n",
        "\n",
        "2. Float – This value is represented by the float class. It is a real number with a floating-point representation. It is specified by a decimal point. Optionally, the character e or E followed by a positive or negative integer may be appended to specify scientific notation.\n",
        "\n",
        "3. Complex Numbers – A complex number is represented by a complex class. It is specified as (real part) + (imaginary part)j . For example – 2+3j"
      ],
      "metadata": {
        "id": "GF9L2Q25doHQ"
      }
    },
    {
      "cell_type": "code",
      "source": [
        "a = 5\n",
        "print(\"Type of a: \", type(a))\n",
        "\n",
        "b = 5.0\n",
        "print(\"\\nType of b: \", type(b))\n",
        "\n",
        "c = 2 + 4j\n",
        "print(\"\\nType of c: \", type(c))"
      ],
      "metadata": {
        "colab": {
          "base_uri": "https://localhost:8080/"
        },
        "id": "9_4NiZRpdnpF",
        "outputId": "f7721f2d-45f6-46a5-8dd4-b0bb871e3424"
      },
      "execution_count": null,
      "outputs": [
        {
          "output_type": "stream",
          "name": "stdout",
          "text": [
            "Type of a:  <class 'int'>\n",
            "\n",
            "Type of b:  <class 'float'>\n",
            "\n",
            "Type of c:  <class 'complex'>\n"
          ]
        }
      ]
    },
    {
      "cell_type": "markdown",
      "source": [
        "## Sequence Data Types in Python"
      ],
      "metadata": {
        "id": "X0nqcBfhd5aW"
      }
    },
    {
      "cell_type": "markdown",
      "source": [
        "### String  \n",
        "A string is a collection of one or more characters put in a single quote, double-quote, or triple-quote. In Python, there is no character data type Python, a character is a string of length one. It is represented by str class."
      ],
      "metadata": {
        "id": "lBUMvn0peB6d"
      }
    },
    {
      "cell_type": "code",
      "source": [
        "String1 = 'Welcome to the Geeks World'\n",
        "print(\"String with the use of Single Quotes: \")\n",
        "print(String1)\n",
        "String1 = \"I'm a Geek\"\n",
        "print(\"\\nString with the use of Double Quotes: \")\n",
        "print(String1)\n",
        "print(type(String1))\n",
        "String1 = '''I'm a Geek and I live in a world of \"Geeks\"'''\n",
        "print(\"\\nString with the use of Triple Quotes: \")\n",
        "print(String1)\n",
        "print(type(String1))\n",
        "\n",
        "String1 = '''Geeks\n",
        "            For\n",
        "            Life'''\n",
        "print(\"\\nCreating a multiline String: \")\n",
        "print(String1)"
      ],
      "metadata": {
        "colab": {
          "base_uri": "https://localhost:8080/"
        },
        "id": "iP6fzo7BdBQV",
        "outputId": "c9a5b3bb-1235-42dd-ef4a-b38dafc49e6c"
      },
      "execution_count": null,
      "outputs": [
        {
          "output_type": "stream",
          "name": "stdout",
          "text": [
            "String with the use of Single Quotes: \n",
            "Welcome to the Geeks World\n",
            "\n",
            "String with the use of Double Quotes: \n",
            "I'm a Geek\n",
            "<class 'str'>\n",
            "\n",
            "String with the use of Triple Quotes: \n",
            "I'm a Geek and I live in a world of \"Geeks\"\n",
            "<class 'str'>\n",
            "\n",
            "Creating a multiline String: \n",
            "Geeks \n",
            "            For \n",
            "            Life\n"
          ]
        }
      ]
    },
    {
      "cell_type": "markdown",
      "source": [
        "Accessing String Elements"
      ],
      "metadata": {
        "id": "I8TkgXQ1tdyd"
      }
    },
    {
      "cell_type": "code",
      "source": [
        "String1 = \"GeeksForGeeks\"\n",
        "print(\"Initial String: \")\n",
        "print(String1)\n",
        "print(\"\\nFirst character of String is: \")\n",
        "print(String1[0])\n",
        "print(String1[3])\n",
        "print(\"\\nLast character of String is: \")\n",
        "print(String1[-1])\n",
        "\n",
        "Index - 0\n",
        "Number - 1"
      ],
      "metadata": {
        "colab": {
          "base_uri": "https://localhost:8080/"
        },
        "id": "xKx4_U6gtico",
        "outputId": "91240093-cd09-43dc-ac52-46cd8b56dbc2"
      },
      "execution_count": null,
      "outputs": [
        {
          "output_type": "stream",
          "name": "stdout",
          "text": [
            "Initial String: \n",
            "GeeksForGeeks\n",
            "\n",
            "First character of String is: \n",
            "G\n",
            "k\n",
            "\n",
            "Last character of String is: \n",
            "s\n"
          ]
        }
      ]
    },
    {
      "cell_type": "markdown",
      "source": [
        "Tuple"
      ],
      "metadata": {
        "id": "UoJTCnwDpA5V"
      }
    },
    {
      "cell_type": "markdown",
      "source": [
        "List Data Type\n",
        "1. ordered collection of data. It is very flexible as the items in a list do not need to be of the same type.\n",
        "2. created by just placing the sequence inside the square brackets[]."
      ],
      "metadata": {
        "id": "XOFj2Dz-o9Mk"
      }
    },
    {
      "cell_type": "code",
      "source": [
        "List = []\n",
        "print(\"Initial blank List: \")\n",
        "print(List)\n",
        "List = ['GeeksForGeeks']\n",
        "print(\"\\nList with the use of String: \")\n",
        "print(List)\n",
        "\n",
        "List = [['Geeks', 'For'], ['Geeks']]\n",
        "print(\"\\nMulti-Dimensional List: \")\n",
        "print(List)"
      ],
      "metadata": {
        "id": "eBcaOjlgt8en"
      },
      "execution_count": null,
      "outputs": []
    },
    {
      "cell_type": "markdown",
      "source": [
        "Access List Items - Use the index operator [ ] to access an item in a list"
      ],
      "metadata": {
        "id": "m4X_NkR_uCDX"
      }
    },
    {
      "cell_type": "code",
      "source": [
        "List = [\"Orange\", \"Apple\", \"Banana\"]\n",
        "print(\"\\nList containing multiple values: \")\n",
        "print(List[0])\n",
        "print(List[2])"
      ],
      "metadata": {
        "colab": {
          "base_uri": "https://localhost:8080/"
        },
        "id": "GeAZHIKzuBR7",
        "outputId": "1e91ca9a-7f38-4cd6-ab1d-e364a7149354"
      },
      "execution_count": null,
      "outputs": [
        {
          "output_type": "stream",
          "name": "stdout",
          "text": [
            "\n",
            "List containing multiple values: \n",
            "Orange\n",
            "Banana\n"
          ]
        }
      ]
    },
    {
      "cell_type": "markdown",
      "source": [
        "Tuple -\n",
        "1. An ordered collection of Python objects.\n",
        "2. The only difference between a tuple and a list is that tuples are immutable i.e. tuples cannot be modified after it is created. It is represented by a tuple class."
      ],
      "metadata": {
        "id": "vKFflSDBuZl9"
      }
    },
    {
      "cell_type": "code",
      "source": [
        "Tuple1 = ()\n",
        "print(\"Initial empty Tuple: \")\n",
        "print(Tuple1)\n",
        "Tuple1 = ('Geeks', 'For')\n",
        "print(\"\\nTuple with the use of String: \")\n",
        "print(Tuple1)\n",
        "\n",
        "list1 = [1, 2, 4, 5, 6]\n",
        "print(\"\\nTuple using List: \")\n",
        "print(tuple(list1))\n",
        "Tuple1 = tuple('Geeks')\n",
        "print(\"\\nTuple with the use of function: \")\n",
        "print(Tuple1)\n",
        "\n",
        "Tuple1 = (0, 1, 2, 3)\n",
        "Tuple2 = ('python', 'geek')\n",
        "Tuple3 = (Tuple1, Tuple2)\n",
        "print(\"\\nTuple with nested tuples: \")\n",
        "print(Tuple3)"
      ],
      "metadata": {
        "id": "EAsRLGrDuY34"
      },
      "execution_count": null,
      "outputs": []
    },
    {
      "cell_type": "markdown",
      "source": [
        "\n",
        "Purpose:\n",
        "Any time you need to store a sequence of data like a list, but don't need the mutability of a list, a tuple is appropriate. They're for when you know exactly how many elements you need to store and what those elements are ahead of time."
      ],
      "metadata": {
        "id": "yC-bLMU6vXYH"
      }
    },
    {
      "cell_type": "code",
      "source": [
        "tuple1 = tuple([1, 2, 3, 4, 5])\n",
        "print(\"First element of tuple\")\n",
        "print(tuple1[0])"
      ],
      "metadata": {
        "id": "S9u0Sy0bvh0Y"
      },
      "execution_count": null,
      "outputs": []
    },
    {
      "cell_type": "markdown",
      "source": [
        "Excerise 2 - Write a Code to create a list that contains 4 fruits. Access the 3rd Fruit in the list."
      ],
      "metadata": {
        "id": "Dz9REt8_er1m"
      }
    },
    {
      "cell_type": "markdown",
      "source": [
        "Set Data Type in Python"
      ],
      "metadata": {
        "id": "pDF08-FAvsuO"
      }
    },
    {
      "cell_type": "markdown",
      "source": [
        "unordered collection of data types that is iterable, mutable, and has no duplicate elements. The order of elements in a set is undefined though it may consist of various elements."
      ],
      "metadata": {
        "id": "-jSdcZzPvx0o"
      }
    },
    {
      "cell_type": "code",
      "source": [
        "set1 = set()\n",
        "print(\"Initial blank Set: \")\n",
        "print(set1)\n",
        "set1 = set(\"GeeksForGeeks\")\n",
        "print(\"\\nSet with the use of String: \")\n",
        "print(set1)\n",
        "set1 = set([\"Geeks\", \"For\", \"Geeks\"])\n",
        "print(\"\\nSet with the use of List: \")\n",
        "print(set1)\n",
        "set1 = set([1, 2, 'Geeks', 4, 'For', 6, 'Geeks'])\n",
        "print(\"\\nSet with the use of Mixed Values\")\n",
        "print(set1)"
      ],
      "metadata": {
        "colab": {
          "base_uri": "https://localhost:8080/"
        },
        "id": "oydmHSlHv1jL",
        "outputId": "0e98d5d3-9f01-4568-ef66-84fe56cef981"
      },
      "execution_count": null,
      "outputs": [
        {
          "output_type": "stream",
          "name": "stdout",
          "text": [
            "Initial blank Set: \n",
            "set()\n",
            "\n",
            "Set with the use of String: \n",
            "{'s', 'G', 'F', 'k', 'e', 'r', 'o'}\n",
            "\n",
            "Set with the use of List: \n",
            "{'Geeks', 'For'}\n",
            "\n",
            "Set with the use of Mixed Values\n",
            "{1, 2, 4, 6, 'Geeks', 'For'}\n"
          ]
        }
      ]
    },
    {
      "cell_type": "code",
      "source": [
        "set1 = set([\"Geeks\", \"For\", \"Geeks\"])\n",
        "print(\"\\nInitial set\")\n",
        "print(set1)\n",
        "print(\"\\nElements of set: \")\n",
        "for i in set1:\n",
        "    print(i, end=\" \")\n",
        "print(\"Geeks\" in set1)"
      ],
      "metadata": {
        "colab": {
          "base_uri": "https://localhost:8080/"
        },
        "id": "PsWWrU2gvr4T",
        "outputId": "0e45849e-c7f3-4206-d45d-b925d2c136bc"
      },
      "execution_count": null,
      "outputs": [
        {
          "output_type": "stream",
          "name": "stdout",
          "text": [
            "\n",
            "Initial set\n",
            "{'Geeks', 'For'}\n",
            "\n",
            "Elements of set: \n",
            "Geeks For True\n"
          ]
        }
      ]
    },
    {
      "cell_type": "markdown",
      "source": [
        "Dictonary\n",
        "1. Dictionary in Python is an unordered collection of data values, used to store data values like a map, unlike other Python Data Types that hold only a single value as an element, a Dictionary holds a key: value pair. Key-value is provided in the dictionary to make it more optimized. Each key-value pair in a Dictionary is separated by a colon : , whereas each key is separated by a ‘comma’."
      ],
      "metadata": {
        "id": "pikogISWEXJT"
      }
    },
    {
      "cell_type": "code",
      "source": [
        "# Dictionary\n",
        "Dict = {}\n",
        "print(\"Empty Dictionary: \")\n",
        "print(Dict)\n",
        "Dict = {1: 'Geeks', 2: 'For', 3: 'Geeks'}\n",
        "print(\"\\nDictionary with the use of Integer Keys: \")\n",
        "print(Dict)\n",
        "Dict = {'Name': 'Geeks', 1: [1, 2, 3, 4]}\n",
        "print(\"\\nDictionary with the use of Mixed Keys: \")\n",
        "print(Dict)\n",
        "Dict = dict({1: 'Geeks', 2: 'For', 3: 'Geeks'})\n",
        "print(\"\\nDictionary with the use of dict(): \")\n",
        "print(Dict)\n",
        "Dict = dict([(1, 'Geeks'), (2, 'For')])\n",
        "print(\"\\nDictionary with each item as a pair: \")\n",
        "print(Dict)"
      ],
      "metadata": {
        "colab": {
          "base_uri": "https://localhost:8080/"
        },
        "id": "R8Nj02XupCt5",
        "outputId": "aa74996e-7ffd-4c9a-b8e7-af8b86a45c84"
      },
      "execution_count": null,
      "outputs": [
        {
          "output_type": "stream",
          "name": "stdout",
          "text": [
            "Empty Dictionary: \n",
            "{}\n",
            "\n",
            "Dictionary with the use of Integer Keys: \n",
            "{1: 'Geeks', 2: 'For', 3: 'Geeks'}\n",
            "\n",
            "Dictionary with the use of Mixed Keys: \n",
            "{'Name': 'Geeks', 1: [1, 2, 3, 4]}\n",
            "\n",
            "Dictionary with the use of dict(): \n",
            "{1: 'Geeks', 2: 'For', 3: 'Geeks'}\n",
            "\n",
            "Dictionary with each item as a pair: \n",
            "{1: 'Geeks', 2: 'For'}\n"
          ]
        }
      ]
    },
    {
      "cell_type": "markdown",
      "source": [
        "Accessing Key-value in Dictionary"
      ],
      "metadata": {
        "id": "VGJSF-wKEq-c"
      }
    },
    {
      "cell_type": "code",
      "source": [
        "Dict = {1: 'Geeks', 'name': 'For', 3: 'Geeks'}\n",
        "print(\"Accessing a element using key:\")\n",
        "print(Dict['name'])\n",
        "print(\"Accessing a element using get:\")\n",
        "print(Dict.get(3))"
      ],
      "metadata": {
        "colab": {
          "base_uri": "https://localhost:8080/"
        },
        "id": "eDEJjoNUErev",
        "outputId": "7f291054-dfd4-4729-bc06-76adb0811567"
      },
      "execution_count": null,
      "outputs": [
        {
          "output_type": "stream",
          "name": "stdout",
          "text": [
            "Accessing a element using key:\n",
            "For\n",
            "Accessing a element using get:\n",
            "Geeks\n"
          ]
        }
      ]
    },
    {
      "cell_type": "markdown",
      "source": [
        "Excerise 3 - Write a Code to create a Dictionary that contains Day Name and Number. Use Loop to iterate over that dict.\n",
        "{1:\"Monday\"}\n"
      ],
      "metadata": {
        "id": "9KpMCaJpE7U7"
      }
    },
    {
      "cell_type": "markdown",
      "source": [
        "# LIST COMPREHENSION"
      ],
      "metadata": {
        "id": "IH_HLpf5rmMu"
      }
    },
    {
      "cell_type": "markdown",
      "source": [
        "# Dictionary Comprehension\n",
        "\n",
        "- create dictionaries using simple expressions"
      ],
      "metadata": {
        "id": "7XVNJXgUr0SE"
      }
    },
    {
      "cell_type": "code",
      "source": [],
      "metadata": {
        "id": "lFq2NzRksSBm"
      },
      "execution_count": null,
      "outputs": []
    }
  ]
}