{
  "cells": [
    {
      "cell_type": "markdown",
      "metadata": {
        "id": "view-in-github",
        "colab_type": "text"
      },
      "source": [
        "<a href=\"https://colab.research.google.com/github/sharmavishal94/python/blob/main/03_Python_Loops_For_While.ipynb\" target=\"_parent\"><img src=\"https://colab.research.google.com/assets/colab-badge.svg\" alt=\"Open In Colab\"/></a>"
      ]
    },
    {
      "cell_type": "markdown",
      "metadata": {
        "id": "j5bJWihI-heN"
      },
      "source": [
        "## Learn Python Loops\n",
        "\n",
        "#### <b>What are Python Loops?</b>\n",
        "In the real world, you often need to repeat something over and over. It can be repetitive. When programming, though, if you need to do something 100 times, you certainly don't need to write it out in 100 identical lines of code. In Python, loops allow you to iterate over a sequence, whether that's a list, tuple, string, or dictionary.\n",
        "\n",
        "#### <b>What types of Python Loops are there?</b>\n",
        "There is a <b>for</b> loop and a <b>while</b> loop. We'll also go through list comprehensions, as a \"Pythonic\" powerful shortcut for operating on all the members of a list in a single line of code.\n",
        "\n",
        "#### <b>The for statement</b>\n",
        "\n",
        "A \"for\" loop in Python allows you to go through each item in a sequence, one at a time. This allows you to \"iterate\" through an \"iterable\", such as a Python list, and perform operations on each item one at a time.\n",
        "\n",
        "The simplest example is to step through the items in a list:"
      ]
    },
    {
      "cell_type": "code",
      "execution_count": null,
      "metadata": {
        "id": "aWmCSY1_-heP"
      },
      "outputs": [],
      "source": [
        "# In the below example, the for loop will step through each item in my_list, assign the element to a local variable (\"x\"),\n",
        "# and execute the block of code below it to print out x\n",
        "\n",
        "my_list = [10, 20, 30, 40, 50, 60]\n",
        "\n",
        "for x in my_list: #<--- x is a variable, who's scope is limited to the for loop. x can be named anything you'd like\n",
        "    print(x)\n",
        "    print('-----------')\n",
        "    print('-----------')\n",
        "\n",
        "my_fruits = ['apple', 'banana', 'cherry']\n",
        "for fruit in my_fruits:\n",
        "    print(fruit)"
      ]
    },
    {
      "cell_type": "markdown",
      "metadata": {
        "id": "IvzGzADM-heR"
      },
      "source": [
        "#### <b>The range() function</b>\n",
        "In most cases, we will want to loop through a predetermined list. However, we can also generate a list to loop over \"on the fly\" with the <b>range()</b> function."
      ]
    },
    {
      "cell_type": "code",
      "execution_count": null,
      "metadata": {
        "id": "9ePG8F2b-heR",
        "outputId": "562bd4b8-5b4c-4830-bf4a-b1d6a9ca6248"
      },
      "outputs": [
        {
          "name": "stdout",
          "output_type": "stream",
          "text": [
            "0\n",
            "1\n",
            "2\n",
            "3\n",
            "4\n",
            "5\n",
            "6\n",
            "7\n"
          ]
        }
      ],
      "source": [
        "for i in range(8):\n",
        "    print(i)"
      ]
    },
    {
      "cell_type": "markdown",
      "metadata": {
        "id": "yPO8di2n-heS"
      },
      "source": [
        "You can use the <b>range()</b> function together with the <b>len()</b> function to loop through a list, along with a variable that has the current index in the sequence."
      ]
    },
    {
      "cell_type": "code",
      "execution_count": null,
      "metadata": {
        "id": "6JfIP96v-heS",
        "outputId": "afe2f2eb-bcb6-44b8-9936-2eeaf2eea7e4"
      },
      "outputs": [
        {
          "name": "stdout",
          "output_type": "stream",
          "text": [
            "0 10\n",
            "1 20\n",
            "2 30\n",
            "3 40\n",
            "4 50\n",
            "5 60\n"
          ]
        }
      ],
      "source": [
        "my_list = [10, 20, 30, 40, 50, 60]\n",
        "\n",
        "for i in range(len(my_list)):\n",
        "    print(i, my_list[i])"
      ]
    },
    {
      "cell_type": "markdown",
      "metadata": {
        "id": "mR07Hjhc-heT"
      },
      "source": [
        "#### <b>Enumerate</b>\n",
        "You can achieve the same effect as above by using the enumerate() function, to get two values each step through the loop.\n"
      ]
    },
    {
      "cell_type": "code",
      "execution_count": null,
      "metadata": {
        "id": "4l4amNK5-heT",
        "outputId": "3dc17658-f56e-4a3e-fe4f-35cf37fc3ea3"
      },
      "outputs": [
        {
          "name": "stdout",
          "output_type": "stream",
          "text": [
            "0 10\n",
            "1 20\n",
            "2 30\n",
            "3 40\n",
            "4 50\n",
            "5 60\n"
          ]
        }
      ],
      "source": [
        "# the enumerate function will return two values each time the loop statement is run:\n",
        "# \"indx\" will be the current index value, and \"val\" will be the current element of my_list\n",
        "for indx, val in enumerate(my_list):\n",
        "    print(indx, val)"
      ]
    },
    {
      "cell_type": "markdown",
      "metadata": {
        "id": "QqetXaSf-heU"
      },
      "source": [
        "#### <b>Loop through the characters in a string</b>\n",
        "You can also loop through all characters in a string of text in order."
      ]
    },
    {
      "cell_type": "code",
      "execution_count": null,
      "metadata": {
        "id": "gwKeei0g-heU"
      },
      "outputs": [],
      "source": [
        "s = \"Once Upon a Time in Mumbaai\"\n",
        "for character in s:\n",
        "    print(character)"
      ]
    },
    {
      "cell_type": "markdown",
      "metadata": {
        "id": "5y91QNbu-heU"
      },
      "source": [
        "#### <b>Looping through a dictionary</b>\n",
        "#### keys()\n",
        "You can step through the keys of a dictionary."
      ]
    },
    {
      "cell_type": "code",
      "execution_count": null,
      "metadata": {
        "id": "rKQawS2R-heU",
        "outputId": "e75762b6-177f-4f0b-8fac-0593a0976afc"
      },
      "outputs": [
        {
          "name": "stdout",
          "output_type": "stream",
          "text": [
            "AAPL\n",
            "MSFT\n",
            "GOOG\n",
            "CSCO\n"
          ]
        }
      ],
      "source": [
        "my_dict = {'AAPL': 100, 'MSFT': 200, 'GOOG': 300, 'CSCO': 400}\n",
        "\n",
        "for key in my_dict.keys():\n",
        "    print(key)"
      ]
    },
    {
      "cell_type": "markdown",
      "metadata": {
        "id": "6ik3TrZt-heV"
      },
      "source": [
        "#### items()\n",
        "Alternatively, you can step through all the items in the dictionary. Each item is a key-value pair.\n",
        "\n",
        "\n",
        "    "
      ]
    },
    {
      "cell_type": "code",
      "execution_count": null,
      "metadata": {
        "id": "3Ghemwtj-heV",
        "outputId": "c17bde93-c971-4ae4-f085-5e939dc14403"
      },
      "outputs": [
        {
          "name": "stdout",
          "output_type": "stream",
          "text": [
            "Key= AAPL, Value= 100\n",
            "Key= MSFT, Value= 200\n",
            "Key= GOOG, Value= 300\n",
            "Key= CSCO, Value= 400\n"
          ]
        }
      ],
      "source": [
        "my_dict = {'AAPL': 100, 'MSFT': 200, 'GOOG': 300, 'CSCO': 400}\n",
        "\n",
        "for key, value in my_dict.items():\n",
        "    print('Key= ' + key + ', Value= ' + str(value))"
      ]
    },
    {
      "cell_type": "markdown",
      "metadata": {
        "id": "DA3Sb8yZ-heV"
      },
      "source": [
        "#### <b>The while loop</b>\n",
        "Though not used as frequently as the <b>for</b> loop, the <b>while</b> loop allows you to execute a block of code until a certain condition is met. If you don't know before-hand how many times to iterate, then a <b>while</b> loop may be appropriate."
      ]
    },
    {
      "cell_type": "code",
      "execution_count": null,
      "metadata": {
        "id": "Sycojr_o-heV",
        "outputId": "ba127e0b-834d-4a9e-b5d8-d48f19daa02d",
        "colab": {
          "base_uri": "https://localhost:8080/"
        }
      },
      "outputs": [
        {
          "output_type": "stream",
          "name": "stdout",
          "text": [
            "Happy Friday\n",
            "Happy Friday\n",
            "Happy Friday\n"
          ]
        }
      ],
      "source": [
        "count = 0\n",
        "while (count < 3):\n",
        "    count = count + 1\n",
        "    print(\"Happy Friday\")"
      ]
    },
    {
      "cell_type": "markdown",
      "metadata": {
        "id": "KTbd82VO-heX"
      },
      "source": [
        "## Example Loops\n",
        "\n",
        "<b>1 - Count the number of even elements in a list </b>\n",
        "\n",
        "Loop through my_list_1 and keep a counter of all the even numbers in the list. The code below shows how to do this using a For Loop and List Comprehension.\n"
      ]
    },
    {
      "cell_type": "code",
      "execution_count": null,
      "metadata": {
        "id": "RS428ZzK-heX"
      },
      "outputs": [],
      "source": [
        "my_list_1 = [252, 9, 258, 220, 249, 83, 195, 298, 228, 67, 233, 133, 280, 96, 53, 204,\n",
        "            247, 268, 115, 127, 215, 214, 221, 275, 224, 36, 292, 145, 150, 17, 93,\n",
        "            292, 206, 229, 189, 41, 246, 279, 158, 161, 90, 47, 195, 137, 171, 5,\n",
        "            206, 106, 58, 226, 140, 6, 29, 277, 192, 47, 296, 90, 19, 290, 235, 229,\n",
        "            26, 8, 220, 168, 294, 238, 138, 150, 13, 143, 209, 102, 192, 2, 140, 6, 99, 189\n",
        "            ]\n"
      ]
    },
    {
      "cell_type": "code",
      "execution_count": null,
      "metadata": {
        "id": "oiT4G4Be-heX",
        "outputId": "94131eff-ca13-4cba-8cc9-4ca8663747b8"
      },
      "outputs": [
        {
          "data": {
            "text/plain": [
              "42"
            ]
          },
          "execution_count": 15,
          "metadata": {},
          "output_type": "execute_result"
        }
      ],
      "source": [
        "#Using a for loop\n",
        "counter = 0\n",
        "for elt in my_list_1:\n",
        "    if elt % 2 == 0:\n",
        "        counter = counter + 1\n",
        "counter"
      ]
    },
    {
      "cell_type": "code",
      "execution_count": null,
      "metadata": {
        "id": "vaDonug4-heX",
        "outputId": "c8953dbb-369f-491d-9d48-95801bdd2cde"
      },
      "outputs": [
        {
          "data": {
            "text/plain": [
              "42"
            ]
          },
          "execution_count": 16,
          "metadata": {},
          "output_type": "execute_result"
        }
      ],
      "source": [
        "#Using a list comprehension\n",
        "len([x for x in my_list_1 if x%2==0])"
      ]
    },
    {
      "cell_type": "markdown",
      "metadata": {
        "id": "rqIXLbYM-heY"
      },
      "source": [
        "<b>2 - Find Stocks with PE Ratio in a certain range </b>\n",
        "\n",
        "Using the code below, you start with a dictionary of stocks and come up with a list of stocks that have a PE ratio between 10 and 15.\n"
      ]
    },
    {
      "cell_type": "code",
      "execution_count": null,
      "metadata": {
        "id": "uyPkU7Y6-heY",
        "outputId": "5f003984-ec16-4538-df57-7e024f7783b4"
      },
      "outputs": [
        {
          "name": "stdout",
          "output_type": "stream",
          "text": [
            "['VZ', 'MRK', 'MMM']\n"
          ]
        }
      ],
      "source": [
        "my_dict_pe={'AXP':9,'VZ':10.2,'BA':None,'CAT':8.3,'JPM':7.9,\n",
        "            'CVX':9.3,'KO':17.9,'DIS':19.1,'MRK':13.7,'MMM':13.3}\n",
        "\n",
        "#code for list of PE stocks in range\n",
        "screened_stocks=[]\n",
        "for item in my_dict_pe.items():\n",
        "    key,val = item\n",
        "    if val is not None and val>=10 and val <=15:\n",
        "        screened_stocks.append(key)\n",
        "print(screened_stocks)"
      ]
    },
    {
      "cell_type": "markdown",
      "metadata": {
        "id": "1L6Eufda-heY"
      },
      "source": [
        "<b>3 - Calculate the Market Value on a Portfolio </b>\n",
        "\n",
        "Loop through the shares list and calculate the position value, multiplying number of shares by the price.\n"
      ]
    },
    {
      "cell_type": "code",
      "execution_count": null,
      "metadata": {
        "id": "kH_Fbjmh-heY",
        "outputId": "e01fc29c-5589-4ec2-cac9-9f3f270a27d3"
      },
      "outputs": [
        {
          "name": "stdout",
          "output_type": "stream",
          "text": [
            "Position Values:  [480160.0, 520975.0, 532416.0, 449379.0, 290385.0, 403875.0, 591408.0, 332416.0, 431938.0, 560060.0, 102051.0, 152399.0, 808480.0, 533952.0, 67225.0, 251575.0, 710583.0000000001, 437900.0, 408633.0, 354670.0, 155474.0, 187252.0, 247912.0, 61312.0, 57797.0, 225505.0, 46460.0, 37120.0]\n",
            "Total Portfolio Value:  9439312.0\n"
          ]
        }
      ],
      "source": [
        "shares = [8000, 3500, 14100, 2100, 1500, 7500, 4800, 2800, 3700, 8200, 900, 1300, 6200, 16200, 500, 2900, 5100, 5000, 10700, 1000, 1100, 16900, 800, 200, 2900, 1700, 500, 800]\n",
        "prices = [60.02, 148.85, 37.76, 213.99, 193.59, 53.85, 123.21, 118.72, 116.74, 68.3, 113.39, 117.23, 130.4, 32.96, 134.45, 86.75, 139.33, 87.58, 38.19, 354.67, 141.34, 11.08, 309.89, 306.56, 19.93, 132.65, 92.92, 46.4]\n",
        "\n",
        "### Your code here\n",
        "position_values=[]\n",
        "for i in range(len(shares)):\n",
        "    position_values.append(shares[i] * prices[i])\n",
        "\n",
        "print('Position Values: ', position_values)\n",
        "print('Total Portfolio Value: ', sum(position_values))"
      ]
    }
  ],
  "metadata": {
    "kernelspec": {
      "display_name": "Python 3",
      "language": "python",
      "name": "python3"
    },
    "language_info": {
      "codemirror_mode": {
        "name": "ipython",
        "version": 3
      },
      "file_extension": ".py",
      "mimetype": "text/x-python",
      "name": "python",
      "nbconvert_exporter": "python",
      "pygments_lexer": "ipython3",
      "version": "3.7.4"
    },
    "colab": {
      "provenance": [],
      "include_colab_link": true
    }
  },
  "nbformat": 4,
  "nbformat_minor": 0
}